{
 "cells": [
  {
   "cell_type": "code",
   "execution_count": 3,
   "id": "371efeea",
   "metadata": {},
   "outputs": [],
   "source": [
    "import numpy as np\n",
    "import pandas as pd\n",
    "from sklearn import tree"
   ]
  },
  {
   "cell_type": "code",
   "execution_count": 11,
   "id": "64a27fc3",
   "metadata": {},
   "outputs": [
    {
     "data": {
      "text/html": [
       "<div>\n",
       "<style scoped>\n",
       "    .dataframe tbody tr th:only-of-type {\n",
       "        vertical-align: middle;\n",
       "    }\n",
       "\n",
       "    .dataframe tbody tr th {\n",
       "        vertical-align: top;\n",
       "    }\n",
       "\n",
       "    .dataframe thead th {\n",
       "        text-align: right;\n",
       "    }\n",
       "</style>\n",
       "<table border=\"1\" class=\"dataframe\">\n",
       "  <thead>\n",
       "    <tr style=\"text-align: right;\">\n",
       "      <th></th>\n",
       "      <th>Deneyim Yili</th>\n",
       "      <th>SuanCalisiyor?</th>\n",
       "      <th>Eski Calistigi Firmalar</th>\n",
       "      <th>Egitim Seviyesi</th>\n",
       "      <th>Top10 Universite?</th>\n",
       "      <th>StajBizdeYaptimi?</th>\n",
       "      <th>IseAlindi</th>\n",
       "    </tr>\n",
       "  </thead>\n",
       "  <tbody>\n",
       "    <tr>\n",
       "      <th>0</th>\n",
       "      <td>11</td>\n",
       "      <td>Y</td>\n",
       "      <td>4</td>\n",
       "      <td>BS</td>\n",
       "      <td>N</td>\n",
       "      <td>N</td>\n",
       "      <td>Y</td>\n",
       "    </tr>\n",
       "    <tr>\n",
       "      <th>1</th>\n",
       "      <td>0</td>\n",
       "      <td>N</td>\n",
       "      <td>0</td>\n",
       "      <td>PhD</td>\n",
       "      <td>Y</td>\n",
       "      <td>Y</td>\n",
       "      <td>Y</td>\n",
       "    </tr>\n",
       "    <tr>\n",
       "      <th>2</th>\n",
       "      <td>5</td>\n",
       "      <td>Y</td>\n",
       "      <td>2</td>\n",
       "      <td>MS</td>\n",
       "      <td>N</td>\n",
       "      <td>Y</td>\n",
       "      <td>Y</td>\n",
       "    </tr>\n",
       "    <tr>\n",
       "      <th>3</th>\n",
       "      <td>3</td>\n",
       "      <td>N</td>\n",
       "      <td>1</td>\n",
       "      <td>BS</td>\n",
       "      <td>N</td>\n",
       "      <td>Y</td>\n",
       "      <td>Y</td>\n",
       "    </tr>\n",
       "    <tr>\n",
       "      <th>4</th>\n",
       "      <td>0</td>\n",
       "      <td>N</td>\n",
       "      <td>0</td>\n",
       "      <td>BS</td>\n",
       "      <td>N</td>\n",
       "      <td>N</td>\n",
       "      <td>N</td>\n",
       "    </tr>\n",
       "  </tbody>\n",
       "</table>\n",
       "</div>"
      ],
      "text/plain": [
       "   Deneyim Yili SuanCalisiyor?  Eski Calistigi Firmalar Egitim Seviyesi  \\\n",
       "0            11              Y                        4              BS   \n",
       "1             0              N                        0             PhD   \n",
       "2             5              Y                        2              MS   \n",
       "3             3              N                        1              BS   \n",
       "4             0              N                        0              BS   \n",
       "\n",
       "  Top10 Universite? StajBizdeYaptimi? IseAlindi  \n",
       "0                 N                 N         Y  \n",
       "1                 Y                 Y         Y  \n",
       "2                 N                 Y         Y  \n",
       "3                 N                 Y         Y  \n",
       "4                 N                 N         N  "
      ]
     },
     "execution_count": 11,
     "metadata": {},
     "output_type": "execute_result"
    }
   ],
   "source": [
    "df=pd.read_csv(\"DecisionTreesClassificationDataSet.csv\")\n",
    "df.head()"
   ]
  },
  {
   "cell_type": "code",
   "execution_count": 5,
   "id": "005012aa",
   "metadata": {},
   "outputs": [],
   "source": [
    "# scikit-learn kütüphanesi decision tree'lerin düzgün çalışması için herşeyin rakamlsal olmasını bekliyor \n",
    "# bu yüzdenveri setimizdeki tüm Y ve N değerlerini 0 ve 1 olarak düzeltiyoruz. \n",
    "# Aynı sebeple eğitim seviyesini de BS:0 MS:1 ve PhD:2 olarak güncelliyoruz. map() kullanarak boş hücreler veya geçersiz \n",
    "# değer girilen hücreler NaN ile doldurulacaktır. \n",
    "            "
   ]
  },
  {
   "cell_type": "code",
   "execution_count": 12,
   "id": "1aceb160",
   "metadata": {},
   "outputs": [
    {
     "data": {
      "text/html": [
       "<div>\n",
       "<style scoped>\n",
       "    .dataframe tbody tr th:only-of-type {\n",
       "        vertical-align: middle;\n",
       "    }\n",
       "\n",
       "    .dataframe tbody tr th {\n",
       "        vertical-align: top;\n",
       "    }\n",
       "\n",
       "    .dataframe thead th {\n",
       "        text-align: right;\n",
       "    }\n",
       "</style>\n",
       "<table border=\"1\" class=\"dataframe\">\n",
       "  <thead>\n",
       "    <tr style=\"text-align: right;\">\n",
       "      <th></th>\n",
       "      <th>Deneyim Yili</th>\n",
       "      <th>SuanCalisiyor?</th>\n",
       "      <th>Eski Calistigi Firmalar</th>\n",
       "      <th>Egitim Seviyesi</th>\n",
       "      <th>Top10 Universite?</th>\n",
       "      <th>StajBizdeYaptimi?</th>\n",
       "      <th>IseAlindi</th>\n",
       "    </tr>\n",
       "  </thead>\n",
       "  <tbody>\n",
       "    <tr>\n",
       "      <th>0</th>\n",
       "      <td>11</td>\n",
       "      <td>1</td>\n",
       "      <td>4</td>\n",
       "      <td>0</td>\n",
       "      <td>0</td>\n",
       "      <td>0</td>\n",
       "      <td>1</td>\n",
       "    </tr>\n",
       "    <tr>\n",
       "      <th>1</th>\n",
       "      <td>0</td>\n",
       "      <td>0</td>\n",
       "      <td>0</td>\n",
       "      <td>2</td>\n",
       "      <td>1</td>\n",
       "      <td>1</td>\n",
       "      <td>1</td>\n",
       "    </tr>\n",
       "    <tr>\n",
       "      <th>2</th>\n",
       "      <td>5</td>\n",
       "      <td>1</td>\n",
       "      <td>2</td>\n",
       "      <td>1</td>\n",
       "      <td>0</td>\n",
       "      <td>1</td>\n",
       "      <td>1</td>\n",
       "    </tr>\n",
       "    <tr>\n",
       "      <th>3</th>\n",
       "      <td>3</td>\n",
       "      <td>0</td>\n",
       "      <td>1</td>\n",
       "      <td>0</td>\n",
       "      <td>0</td>\n",
       "      <td>1</td>\n",
       "      <td>1</td>\n",
       "    </tr>\n",
       "    <tr>\n",
       "      <th>4</th>\n",
       "      <td>0</td>\n",
       "      <td>0</td>\n",
       "      <td>0</td>\n",
       "      <td>0</td>\n",
       "      <td>0</td>\n",
       "      <td>0</td>\n",
       "      <td>0</td>\n",
       "    </tr>\n",
       "  </tbody>\n",
       "</table>\n",
       "</div>"
      ],
      "text/plain": [
       "   Deneyim Yili  SuanCalisiyor?  Eski Calistigi Firmalar  Egitim Seviyesi  \\\n",
       "0            11               1                        4                0   \n",
       "1             0               0                        0                2   \n",
       "2             5               1                        2                1   \n",
       "3             3               0                        1                0   \n",
       "4             0               0                        0                0   \n",
       "\n",
       "   Top10 Universite?  StajBizdeYaptimi?  IseAlindi  \n",
       "0                  0                  0          1  \n",
       "1                  1                  1          1  \n",
       "2                  0                  1          1  \n",
       "3                  0                  1          1  \n",
       "4                  0                  0          0  "
      ]
     },
     "execution_count": 12,
     "metadata": {},
     "output_type": "execute_result"
    }
   ],
   "source": [
    "duzeltme_mapping={\"Y\":1,  \"N\":0}\n",
    "\n",
    "df[\"IseAlindi\"]=df[\"IseAlindi\"].map(duzeltme_mapping)\n",
    "df[\"SuanCalisiyor?\"]=df[\"SuanCalisiyor?\"].map(duzeltme_mapping)\n",
    "df[\"Top10 Universite?\" ]=df[\"Top10 Universite?\" ].map(duzeltme_mapping)\n",
    "df[\"StajBizdeYaptimi?\"]=df[\"StajBizdeYaptimi?\"].map(duzeltme_mapping)\n",
    "duzeltme_mapping_egitim={\"BS\": 0, \"MS\":1,\"PhD\": 2}\n",
    "df[\"Egitim Seviyesi\"]=df[\"Egitim Seviyesi\"].map(duzeltme_mapping_egitim)\n",
    "df.head()\n",
    "    \n",
    "    "
   ]
  },
  {
   "cell_type": "code",
   "execution_count": 13,
   "id": "104230f2",
   "metadata": {},
   "outputs": [],
   "source": [
    "# sonuc sütünunu ayırıyoruz.eğitmek için"
   ]
  },
  {
   "cell_type": "code",
   "execution_count": 14,
   "id": "99586531",
   "metadata": {},
   "outputs": [],
   "source": [
    "y=df[\"IseAlindi\"]\n",
    "x=df.drop([\"IseAlindi\"],axis=1)"
   ]
  },
  {
   "cell_type": "code",
   "execution_count": 15,
   "id": "7632c271",
   "metadata": {},
   "outputs": [
    {
     "data": {
      "text/html": [
       "<div>\n",
       "<style scoped>\n",
       "    .dataframe tbody tr th:only-of-type {\n",
       "        vertical-align: middle;\n",
       "    }\n",
       "\n",
       "    .dataframe tbody tr th {\n",
       "        vertical-align: top;\n",
       "    }\n",
       "\n",
       "    .dataframe thead th {\n",
       "        text-align: right;\n",
       "    }\n",
       "</style>\n",
       "<table border=\"1\" class=\"dataframe\">\n",
       "  <thead>\n",
       "    <tr style=\"text-align: right;\">\n",
       "      <th></th>\n",
       "      <th>Deneyim Yili</th>\n",
       "      <th>SuanCalisiyor?</th>\n",
       "      <th>Eski Calistigi Firmalar</th>\n",
       "      <th>Egitim Seviyesi</th>\n",
       "      <th>Top10 Universite?</th>\n",
       "      <th>StajBizdeYaptimi?</th>\n",
       "    </tr>\n",
       "  </thead>\n",
       "  <tbody>\n",
       "    <tr>\n",
       "      <th>0</th>\n",
       "      <td>11</td>\n",
       "      <td>1</td>\n",
       "      <td>4</td>\n",
       "      <td>0</td>\n",
       "      <td>0</td>\n",
       "      <td>0</td>\n",
       "    </tr>\n",
       "    <tr>\n",
       "      <th>1</th>\n",
       "      <td>0</td>\n",
       "      <td>0</td>\n",
       "      <td>0</td>\n",
       "      <td>2</td>\n",
       "      <td>1</td>\n",
       "      <td>1</td>\n",
       "    </tr>\n",
       "    <tr>\n",
       "      <th>2</th>\n",
       "      <td>5</td>\n",
       "      <td>1</td>\n",
       "      <td>2</td>\n",
       "      <td>1</td>\n",
       "      <td>0</td>\n",
       "      <td>1</td>\n",
       "    </tr>\n",
       "    <tr>\n",
       "      <th>3</th>\n",
       "      <td>3</td>\n",
       "      <td>0</td>\n",
       "      <td>1</td>\n",
       "      <td>0</td>\n",
       "      <td>0</td>\n",
       "      <td>1</td>\n",
       "    </tr>\n",
       "    <tr>\n",
       "      <th>4</th>\n",
       "      <td>0</td>\n",
       "      <td>0</td>\n",
       "      <td>0</td>\n",
       "      <td>0</td>\n",
       "      <td>0</td>\n",
       "      <td>0</td>\n",
       "    </tr>\n",
       "  </tbody>\n",
       "</table>\n",
       "</div>"
      ],
      "text/plain": [
       "   Deneyim Yili  SuanCalisiyor?  Eski Calistigi Firmalar  Egitim Seviyesi  \\\n",
       "0            11               1                        4                0   \n",
       "1             0               0                        0                2   \n",
       "2             5               1                        2                1   \n",
       "3             3               0                        1                0   \n",
       "4             0               0                        0                0   \n",
       "\n",
       "   Top10 Universite?  StajBizdeYaptimi?  \n",
       "0                  0                  0  \n",
       "1                  1                  1  \n",
       "2                  0                  1  \n",
       "3                  0                  1  \n",
       "4                  0                  0  "
      ]
     },
     "execution_count": 15,
     "metadata": {},
     "output_type": "execute_result"
    }
   ],
   "source": [
    "x.head()"
   ]
  },
  {
   "cell_type": "code",
   "execution_count": 16,
   "id": "af08e9ec",
   "metadata": {},
   "outputs": [],
   "source": [
    "# decision tree oluşturuyoruz"
   ]
  },
  {
   "cell_type": "code",
   "execution_count": 17,
   "id": "b9999319",
   "metadata": {},
   "outputs": [],
   "source": [
    "clf=tree.DecisionTreeClassifier()\n",
    "clf=clf.fit(x,y)"
   ]
  },
  {
   "cell_type": "code",
   "execution_count": 19,
   "id": "4d4511cf",
   "metadata": {},
   "outputs": [],
   "source": [
    "# 5 yıl deneyim,bir yerde çalışan,3 eski şirkette çalışmış,eğitim lisans,top10 mezunu değil"
   ]
  },
  {
   "cell_type": "code",
   "execution_count": 20,
   "id": "2e9f1ff1",
   "metadata": {},
   "outputs": [
    {
     "name": "stdout",
     "output_type": "stream",
     "text": [
      "[1]\n"
     ]
    },
    {
     "name": "stderr",
     "output_type": "stream",
     "text": [
      "C:\\Users\\veyse\\anaconda3\\lib\\site-packages\\sklearn\\base.py:450: UserWarning: X does not have valid feature names, but DecisionTreeClassifier was fitted with feature names\n",
      "  warnings.warn(\n"
     ]
    }
   ],
   "source": [
    "print(clf.predict([[5,1,3,0,0,0,]]))"
   ]
  },
  {
   "cell_type": "code",
   "execution_count": 21,
   "id": "2b67e6d9",
   "metadata": {},
   "outputs": [],
   "source": [
    "# 2 yıllık iş deneyimi,7 kez iş değiştirmiş iyi okul mezunu şuan çalışmıyor"
   ]
  },
  {
   "cell_type": "code",
   "execution_count": 22,
   "id": "00081c6f",
   "metadata": {},
   "outputs": [
    {
     "name": "stdout",
     "output_type": "stream",
     "text": [
      "[0]\n"
     ]
    },
    {
     "name": "stderr",
     "output_type": "stream",
     "text": [
      "C:\\Users\\veyse\\anaconda3\\lib\\site-packages\\sklearn\\base.py:450: UserWarning: X does not have valid feature names, but DecisionTreeClassifier was fitted with feature names\n",
      "  warnings.warn(\n"
     ]
    }
   ],
   "source": [
    "print(clf.predict([[2,0,7,0,1,0]]))"
   ]
  },
  {
   "cell_type": "code",
   "execution_count": 24,
   "id": "1c7605a3",
   "metadata": {},
   "outputs": [
    {
     "name": "stdout",
     "output_type": "stream",
     "text": [
      "[1]\n"
     ]
    },
    {
     "name": "stderr",
     "output_type": "stream",
     "text": [
      "C:\\Users\\veyse\\anaconda3\\lib\\site-packages\\sklearn\\base.py:450: UserWarning: X does not have valid feature names, but DecisionTreeClassifier was fitted with feature names\n",
      "  warnings.warn(\n"
     ]
    }
   ],
   "source": [
    "print(clf.predict([[20,1,1,1,1,1]]))"
   ]
  },
  {
   "cell_type": "code",
   "execution_count": 26,
   "id": "850a8b36",
   "metadata": {},
   "outputs": [
    {
     "name": "stdout",
     "output_type": "stream",
     "text": [
      "[0]\n"
     ]
    },
    {
     "name": "stderr",
     "output_type": "stream",
     "text": [
      "C:\\Users\\veyse\\anaconda3\\lib\\site-packages\\sklearn\\base.py:450: UserWarning: X does not have valid feature names, but DecisionTreeClassifier was fitted with feature names\n",
      "  warnings.warn(\n"
     ]
    }
   ],
   "source": [
    "print(clf.predict([[0,0,0,0,0,0]]))"
   ]
  },
  {
   "cell_type": "code",
   "execution_count": null,
   "id": "495ff881",
   "metadata": {},
   "outputs": [],
   "source": []
  }
 ],
 "metadata": {
  "kernelspec": {
   "display_name": "Python 3 (ipykernel)",
   "language": "python",
   "name": "python3"
  },
  "language_info": {
   "codemirror_mode": {
    "name": "ipython",
    "version": 3
   },
   "file_extension": ".py",
   "mimetype": "text/x-python",
   "name": "python",
   "nbconvert_exporter": "python",
   "pygments_lexer": "ipython3",
   "version": "3.9.13"
  }
 },
 "nbformat": 4,
 "nbformat_minor": 5
}
